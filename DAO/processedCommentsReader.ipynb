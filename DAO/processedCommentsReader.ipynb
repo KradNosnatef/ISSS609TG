{
 "cells": [
  {
   "cell_type": "code",
   "execution_count": 8,
   "metadata": {},
   "outputs": [
    {
     "name": "stdout",
     "output_type": "stream",
     "text": [
      "26260250\n",
      "[\"'ve\", 'ever', 'disneyland', 'anywher', \"'ll\", 'find', 'disneyland', 'hong', 'kong', 'similar', 'layout', 'walk', 'main', 'street', 'familiar', 'feel', 'one', 'ride', 'small', 'world', 'absolut', 'fabul', 'worth', 'day', 'visit', 'fairli', 'hot', 'rel', 'busi', 'queue', 'move', 'fairli', 'well']\n"
     ]
    }
   ],
   "source": [
    "import json\n",
    "\n",
    "#if you move this code or asset txt you need to correct the path\n",
    "file=open('../assets/processedComments.txt',\"r\")\n",
    "\n",
    "jsonString=file.read()\n",
    "stemmedCommentsDictionary=json.loads(jsonString)\n",
    "\n",
    "#just access the stemmed comment word like this\n",
    "print(stemmedCommentsDictionary[\"670772142\"])"
   ]
  }
 ],
 "metadata": {
  "kernelspec": {
   "display_name": "Python 3",
   "language": "python",
   "name": "python3"
  },
  "language_info": {
   "codemirror_mode": {
    "name": "ipython",
    "version": 3
   },
   "file_extension": ".py",
   "mimetype": "text/x-python",
   "name": "python",
   "nbconvert_exporter": "python",
   "pygments_lexer": "ipython3",
   "version": "3.10.7"
  },
  "orig_nbformat": 4
 },
 "nbformat": 4,
 "nbformat_minor": 2
}
